merge(left, right, how='inner', on=None, left_on=None, right_on=None,   
      left_index=False, right_index=False, sort=True,   
      suffixes=('_x', '_y'), copy=True, indicator=False) 


类似于关系型数据库的连接方式，可以根据一个或多个键将不同的DatFrame连接起来。该函数的典型应用场景是，针对同一个主键存在两张不同字段的表，根据主键整合到一张表里面。

参数介绍：

left和right：两个不同的DataFrame;
how：连接方式，有inner、left、right、outer，默认为inner;
on：指的是用于连接的列索引名称，必须存在于左右两个DataFrame中，如果没有指定且其他参数也没有指定，则以两个DataFrame列名交集作为连接键;
left_on：左侧DataFrame中用于连接键的列名，这个参数左右列名不同但代表的含义相同时非常的有用;
right_on：右侧DataFrame中用于连接键的列名;
left_index：使用左侧DataFrame中的行索引作为连接键;
right_index：使用右侧DataFrame中的行索引作为连接键;
sort：默认为True，将合并的数据进行排序，设置为False可以提高性能;
suffixes：字符串值组成的元组，用于指定当左右DataFrame存在相同列名时在列名后面附加的后缀名称，默认为('_x', '_y');
copy：默认为True，总是将数据复制到数据结构中，设置为False可以提高性能;
indicator：显示合并数据中数据的来源情况
