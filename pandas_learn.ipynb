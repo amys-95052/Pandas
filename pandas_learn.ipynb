{
 "cells": [
  {
   "cell_type": "markdown",
   "id": "f6a71687",
   "metadata": {},
   "source": [
    "# Pandas学习"
   ]
  },
  {
   "cell_type": "markdown",
   "id": "dcc6cc73",
   "metadata": {},
   "source": [
    "### 1. DataFrame与Series"
   ]
  },
  {
   "cell_type": "code",
   "execution_count": 2,
   "id": "a65d06da",
   "metadata": {},
   "outputs": [
    {
     "data": {
      "text/plain": [
       "Ohio     35000\n",
       "Texas    72000\n",
       "Utah      5000\n",
       "dtype: int64"
      ]
     },
     "execution_count": 2,
     "metadata": {},
     "output_type": "execute_result"
    }
   ],
   "source": [
    "# Series类似于字典，可以使用字典创建 series\n",
    "import pandas as pd\n",
    "sdata = {\"Ohio\":35000,\"Texas\":72000,\"Utah\":5000}\n",
    "s = pd.Series(sdata)\n",
    "s"
   ]
  },
  {
   "cell_type": "code",
   "execution_count": 3,
   "id": "0a1220d5",
   "metadata": {},
   "outputs": [
    {
     "data": {
      "text/plain": [
       "35000"
      ]
     },
     "execution_count": 3,
     "metadata": {},
     "output_type": "execute_result"
    }
   ],
   "source": [
    "# Series数据访问\n",
    "s['Ohio']"
   ]
  },
  {
   "cell_type": "code",
   "execution_count": 5,
   "id": "12c07bc7",
   "metadata": {},
   "outputs": [
    {
     "name": "stdout",
     "output_type": "stream",
     "text": [
      "<class 'pandas.core.series.Series'>\n"
     ]
    },
    {
     "data": {
      "text/plain": [
       "Texas    72000\n",
       "Utah      5000\n",
       "dtype: int64"
      ]
     },
     "execution_count": 5,
     "metadata": {},
     "output_type": "execute_result"
    }
   ],
   "source": [
    "# 使用index列表\n",
    "print(type(s[['Texas','Utah']]))\n",
    "s[['Texas','Utah']]"
   ]
  },
  {
   "cell_type": "code",
   "execution_count": 6,
   "id": "ecb08497",
   "metadata": {},
   "outputs": [],
   "source": [
    "# DataFrame 可以看作由Series组成的字典，key代表columns，values代表Series\n",
    "# DataFrame 查询一行一列结果是Series类型\n",
    "# DataFrame 查询多行多列结果是DataFrame类型"
   ]
  },
  {
   "cell_type": "markdown",
   "id": "122ac302",
   "metadata": {},
   "source": [
    "### 2. Pandas数据查询"
   ]
  },
  {
   "cell_type": "code",
   "execution_count": 7,
   "id": "ee59521a",
   "metadata": {},
   "outputs": [],
   "source": [
    "# loc的使用\n",
    "# 1. 使用单个label值查询数据得到单个值/Series   loc[indx,column]  loc[index,[column1,column2,...]]\n",
    "# 2. 使用值列表批量查询     loc[[index1,index2,...],[column1,column2,...]]\n",
    "# 3. 使用区间进行范围查询,行和列都可以是一个区间   loc[index1:index5,column1:column6]\n",
    "# 4. 使用条件表达式查询   筛选行：df.loc[df[column] 条件表达式，:]\n",
    "# 5. 使用函数查询         筛选行：df.loc[lambda x:函数表达式（使用x[colunm1],x[colunm2]访问每行元素）,：]"
   ]
  },
  {
   "cell_type": "markdown",
   "id": "3ae68910",
   "metadata": {},
   "source": [
    "### 3.新增数据列或者修改列"
   ]
  },
  {
   "cell_type": "code",
   "execution_count": 8,
   "id": "5cf37f43",
   "metadata": {},
   "outputs": [],
   "source": [
    "# 1.使用loc 可以直接修改值,新增列\n",
    "# 2.使用apply方法\n",
    "# 3.使用assign新增列，不会修改原来的列，可以同时增加很多列\n",
    "# 4.条件选择选择分组分别赋值  df.loc[条件表达式选择行（index），column]"
   ]
  },
  {
   "cell_type": "code",
   "execution_count": null,
   "id": "98fc9d3b",
   "metadata": {},
   "outputs": [],
   "source": []
  }
 ],
 "metadata": {
  "kernelspec": {
   "display_name": "Python 3",
   "language": "python",
   "name": "python3"
  },
  "language_info": {
   "codemirror_mode": {
    "name": "ipython",
    "version": 3
   },
   "file_extension": ".py",
   "mimetype": "text/x-python",
   "name": "python",
   "nbconvert_exporter": "python",
   "pygments_lexer": "ipython3",
   "version": "3.6.13"
  }
 },
 "nbformat": 4,
 "nbformat_minor": 5
}
